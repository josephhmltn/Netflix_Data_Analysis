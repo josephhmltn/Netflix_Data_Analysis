{
 "cells": [
  {
   "cell_type": "markdown",
   "metadata": {},
   "source": [
    "#### Initial Data Load and Preview"
   ]
  },
  {
   "cell_type": "code",
   "execution_count": null,
   "metadata": {},
   "outputs": [],
   "source": [
    "import pandas as pd\n",
    "\n",
    "# Load the CSV file\n",
    "file_path = '.../netflix_movies.csv'\n",
    "netflix_data = pd.read_csv(file_path)\n",
    "\n",
    "# Displaying the first few rows of the dataframe\n",
    "netflix_data.head()"
   ]
  },
  {
   "cell_type": "markdown",
   "metadata": {},
   "source": [
    "#### Data Cleaning - Checking Missing Values and Data Types"
   ]
  },
  {
   "cell_type": "code",
   "execution_count": null,
   "metadata": {},
   "outputs": [],
   "source": [
    "# Checking for missing values and data types\n",
    "missing_values = netflix_data.isnull().sum()\n",
    "data_types = netflix_data.dtypes\n",
    "\n",
    "missing_values, data_types\n"
   ]
  },
  {
   "cell_type": "markdown",
   "metadata": {},
   "source": [
    "#### Cleaning 'Year' and 'Votes' Fields"
   ]
  },
  {
   "cell_type": "code",
   "execution_count": null,
   "metadata": {},
   "outputs": [],
   "source": [
    "# Cleaning 'Year' field: Extracting the first year mentioned in the format (YYYY)\n",
    "netflix_data['year'] = netflix_data['year'].str.extract(r'(\\d{4})').astype(float)\n",
    "\n",
    "# Converting 'Votes' to numeric: Removing commas and converting to integer\n",
    "netflix_data['votes'] = netflix_data['votes'].str.replace(',', '').astype(float)\n",
    "\n",
    "# Checking the changes\n",
    "netflix_data[['year', 'votes']].head(), netflix_data.dtypes\n"
   ]
  },
  {
   "cell_type": "markdown",
   "metadata": {},
   "source": [
    "#### Dropping Rows with Missing 'votes' and 'rating'"
   ]
  },
  {
   "cell_type": "code",
   "execution_count": null,
   "metadata": {},
   "outputs": [],
   "source": [
    "# Dropping rows where 'votes' or 'rating' are missing\n",
    "netflix_data_cleaned = netflix_data.dropna(subset=['votes', 'rating'])\n",
    "\n",
    "# Checking the changes\n",
    "netflix_data_cleaned.isnull().sum(), netflix_data_cleaned.shape\n"
   ]
  },
  {
   "cell_type": "markdown",
   "metadata": {},
   "source": [
    "### Data Visualization\n",
    "\n",
    "#### Distribution of Ratings and Votes"
   ]
  },
  {
   "cell_type": "code",
   "execution_count": null,
   "metadata": {},
   "outputs": [],
   "source": [
    "import seaborn as sns\n",
    "import matplotlib.pyplot as plt\n",
    "\n",
    "# Setting the seaborn style and matplotlib style for plots\n",
    "sns.set(style=\"darkgrid\")\n",
    "plt.style.use(\"dark_background\")\n",
    "\n",
    "# Plotting the distribution of Ratings\n",
    "plt.figure(figsize=(10, 6))\n",
    "sns.histplot(netflix_data_cleaned['rating'], kde=True, palette=\"Blues_r\")\n",
    "plt.title(\"Distribution of Ratings\")\n",
    "plt.xlabel(\"Rating\")\n",
    "plt.ylabel(\"Frequency\")\n",
    "plt.show()\n",
    "\n",
    "# Plotting the distribution of Votes\n",
    "plt.figure(figsize=(10, 6))\n",
    "sns.histplot(netflix_data_cleaned['votes'], kde=True, palette=\"Blues_r\")\n",
    "plt.title(\"Distribution of Votes\")\n",
    "plt.xlabel(\"Votes\")\n",
    "plt.ylabel(\"Frequency\")\n",
    "plt.show()\n"
   ]
  },
  {
   "cell_type": "markdown",
   "metadata": {},
   "source": [
    "#### Normal distribution of Votes looks off, checking and converting to log scale for visualization."
   ]
  },
  {
   "cell_type": "code",
   "execution_count": null,
   "metadata": {},
   "outputs": [],
   "source": [
    "# Displaying the 'votes' column to check its current state\n",
    "netflix_data_cleaned['votes']\n"
   ]
  },
  {
   "cell_type": "code",
   "execution_count": null,
   "metadata": {},
   "outputs": [],
   "source": [
    "# Re-plotting the distribution of Votes with a logarithmic scale\n",
    "plt.figure(figsize=(10, 6))\n",
    "sns.histplot(netflix_data_cleaned['votes'], kde=True, palette=\"Blues_r\", log_scale=True)\n",
    "plt.title(\"Distribution of Votes (Log Scale)\")\n",
    "plt.xlabel(\"Votes (Log Scale)\")\n",
    "plt.ylabel(\"Frequency\")\n",
    "plt.show()\n"
   ]
  },
  {
   "cell_type": "markdown",
   "metadata": {},
   "source": [
    "#### Genre Analysis"
   ]
  },
  {
   "cell_type": "code",
   "execution_count": null,
   "metadata": {},
   "outputs": [],
   "source": [
    "from collections import Counter\n",
    "import numpy as np\n",
    "\n",
    "# Splitting the 'genre' column into individual genres and counting occurrences\n",
    "genre_list = netflix_data_cleaned['genre'].dropna().str.split(',').sum()\n",
    "genre_counts = Counter(genre_list)\n",
    "\n",
    "# Converting to a DataFrame for visualization\n",
    "genre_df = pd.DataFrame(genre_counts.items(), columns=['Genre', 'Count'])\n",
    "genre_df = genre_df.sort_values(by='Count', ascending=False)\n",
    "\n",
    "# Plotting the most common genres\n",
    "plt.figure(figsize=(12, 8))\n",
    "sns.barplot(x='Count', y='Genre', data=genre_df.head(10), palette=\"Blues_r\")\n",
    "plt.title(\"Top 10 Genres on Netflix\")\n",
    "plt.xlabel(\"Count\")\n",
    "plt.ylabel(\"Genre\")\n",
    "plt.show()\n"
   ]
  },
  {
   "cell_type": "markdown",
   "metadata": {},
   "source": [
    "#### Yearly Trends Analysis"
   ]
  },
  {
   "cell_type": "code",
   "execution_count": null,
   "metadata": {},
   "outputs": [],
   "source": [
    "# Analyzing Yearly Trends: Number of Releases and Average Ratings per Year\n",
    "\n",
    "# Grouping data by year\n",
    "yearly_data = netflix_data_cleaned.groupby('year').agg(Count=('title', 'count'), Average_Rating=('rating', 'mean'))\n",
    "\n",
    "# Resetting index for plotting\n",
    "yearly_data = yearly_data.reset_index()\n",
    "\n",
    "# Plotting Number of Releases per Year\n",
    "plt.figure(figsize=(12, 6))\n",
    "sns.lineplot(x='year', y='Count', data=yearly_data, marker='o', color=\"lightblue\")\n",
    "plt.title(\"Number of Releases per Year\")\n",
    "plt.xlabel(\"Year\")\n",
    "plt.ylabel(\"Number of Releases\")\n",
    "plt.xticks(np.arange(yearly_data['year'].min(), yearly_data['year'].max()+1, 1.0), rotation=90)\n",
    "plt.grid(True, which='both', axis='both', linestyle='-', linewidth=0.5)\n",
    "plt.gca().xaxis.grid(False)  # Disable x-axis grid lines\n",
    "plt.show()\n",
    "\n",
    "# Plotting Average Ratings per Year\n",
    "plt.figure(figsize=(12, 6))\n",
    "sns.lineplot(x='year', y='Average_Rating', data=yearly_data, marker='o', color=\"lightgreen\")\n",
    "plt.title(\"Average Ratings per Year\")\n",
    "plt.xlabel(\"Year\")\n",
    "plt.ylabel(\"Average Rating\")\n",
    "plt.xticks(np.arange(yearly_data['year'].min(), yearly_data['year'].max()+1, 1.0), rotation=90)\n",
    "plt.grid(True, which='both', axis='both', linestyle='-', linewidth=0.5)\n",
    "plt.gca().xaxis.grid(False)  # Disable x-axis grid lines\n",
    "plt.show()\n"
   ]
  },
  {
   "cell_type": "markdown",
   "metadata": {},
   "source": [
    "#### Rating vs. Votes Correlation"
   ]
  },
  {
   "cell_type": "code",
   "execution_count": null,
   "metadata": {},
   "outputs": [],
   "source": [
    "# Analyzing the correlation between Ratings and Votes\n",
    "\n",
    "# Plotting a scatterplot for Rating vs. Votes\n",
    "plt.figure(figsize=(12, 6))\n",
    "sns.scatterplot(x='rating', y='votes', data=netflix_data_cleaned, palette=\"Blues_r\", hue='rating', legend=False)\n",
    "plt.title(\"Rating vs. Votes\")\n",
    "plt.xlabel(\"Rating\")\n",
    "plt.ylabel(\"Votes\")\n",
    "plt.show()\n"
   ]
  },
  {
   "cell_type": "markdown",
   "metadata": {},
   "source": [
    "#### Duration Analysis"
   ]
  },
  {
   "cell_type": "code",
   "execution_count": null,
   "metadata": {},
   "outputs": [],
   "source": [
    "# Extracting numeric values from 'duration' and converting to minutes\n",
    "netflix_data_cleaned['duration_min'] = netflix_data_cleaned['duration'].str.extract(r'(\\d+)').astype(float)\n",
    "\n",
    "# Some entries are series with episode durations, we assume these are 1-hour episodes for simplicity\n",
    "# Assuming 60 minutes per episode for series\n",
    "netflix_data_cleaned.loc[netflix_data_cleaned['duration'].str.contains('min')==False, 'duration_min'] *= 60\n",
    "\n",
    "# Plotting the distribution of Duration in Minutes\n",
    "\n",
    "plt.figure(figsize=(12, 6))\n",
    "sns.histplot(netflix_data_cleaned['duration_min'], kde=True, palette=\"Blues_r\")\n",
    "plt.title(\"Distribution of Duration (in minutes)\")\n",
    "plt.xlabel(\"Duration (Minutes)\")\n",
    "plt.ylabel(\"Frequency\")\n",
    "plt.show()"
   ]
  },
  {
   "cell_type": "markdown",
   "metadata": {},
   "source": [
    "#### Word Clouds for Descriptions and Genres"
   ]
  },
  {
   "cell_type": "code",
   "execution_count": null,
   "metadata": {},
   "outputs": [],
   "source": [
    "from wordcloud import WordCloud\n",
    "\n",
    "# Combining all descriptions into a single string\n",
    "all_descriptions = ' '.join(netflix_data_cleaned['description'])\n",
    "\n",
    "# Generating a word cloud\n",
    "wordcloud = WordCloud(width = 800, height = 800, \n",
    "                      background_color ='black', \n",
    "                      colormap=\"Blues\", \n",
    "                      min_font_size = 10).generate(all_descriptions)\n",
    "\n",
    "# Plotting the WordCloud image                        \n",
    "plt.figure(figsize = (8, 8), facecolor = None) \n",
    "plt.imshow(wordcloud) \n",
    "plt.axis(\"off\") \n",
    "plt.tight_layout(pad = 0) \n",
    "plt.show()\n",
    "\n",
    "# Word cloud for genres, ensuring they reflect unique frequency or prominence\n",
    "\n",
    "# For genres: Counting unique occurrences\n",
    "unique_genre_counts = genre_year_data['genre'].value_counts()\n",
    "\n",
    "# Generating a word cloud for unique genres\n",
    "unique_genre_wordcloud = WordCloud(width=800, height=800, background_color='black', colormap=\"Blues\").generate_from_frequencies(unique_genre_counts)\n",
    "\n",
    "# Plotting the WordCloud for genres\n",
    "plt.figure(figsize=(8, 8), facecolor=None)\n",
    "plt.imshow(unique_genre_wordcloud)\n",
    "plt.axis(\"off\")\n",
    "plt.tight_layout(pad=0)\n",
    "plt.show()\n"
   ]
  },
  {
   "cell_type": "markdown",
   "metadata": {},
   "source": [
    "#### Text Analysis of Descriptions"
   ]
  },
  {
   "cell_type": "code",
   "execution_count": null,
   "metadata": {},
   "outputs": [],
   "source": [
    "from collections import Counter\n",
    "import re\n",
    "\n",
    "# Function to clean and split text into words\n",
    "def clean_and_split(text):\n",
    "    # Remove non-alphanumeric characters\n",
    "    text = re.sub(r'\\W+', ' ', text)\n",
    "    # Convert to lowercase and split into words\n",
    "    words = text.lower().split()\n",
    "    return words\n",
    "\n",
    "# List of filler words to be removed\n",
    "filler_words = set([\"the\", \"of\", \"and\", \"or\", \"a\", \"an\", \"in\", \"to\", \"for\", \"with\", \"on\", \"at\", \"by\", \"from\", \"as\", \"is\", \"that\", \"this\", \"it\", \"are\", \"be\", \"was\", \"were\", \"but\", \"if\", \"into\", \"no\", \"not\", \"such\", \"their\", \"then\", \"there\", \"these\", \"they\", \"which\", \"who\", \"will\", \"your\", \"his\", \"her\", \"he\", \"she\", \"them\", \"you\", \"i\", \"me\", \"my\", \"we\", \"us\", \"our\"])\n",
    "\n",
    "# Parsing each description, removing filler words, and counting occurrences\n",
    "word_counts = Counter()\n",
    "for description in netflix_data_cleaned['description']:\n",
    "    words = clean_and_split(description)\n",
    "    filtered_words = [word for word in words if word not in filler_words]\n",
    "    word_counts.update(filtered_words)\n",
    "\n",
    "# Displaying the most common words\n",
    "word_counts.most_common(20)"
   ]
  },
  {
   "cell_type": "markdown",
   "metadata": {},
   "source": [
    "#### Setting Up the Recommendation System"
   ]
  },
  {
   "cell_type": "code",
   "execution_count": null,
   "metadata": {},
   "outputs": [],
   "source": [
    "from sklearn.feature_extraction.text import TfidfVectorizer\n",
    "from sklearn.metrics.pairwise import cosine_similarity\n",
    "\n",
    "# Data Preparation: Combining genre and description\n",
    "netflix_data_cleaned['combined_features'] = netflix_data_cleaned['genre'].str.cat(netflix_data_cleaned['description'], sep=\" \")\n",
    "\n",
    "# Processing text data\n",
    "tfidf = TfidfVectorizer(stop_words='english')\n",
    "tfidf_matrix = tfidf.fit_transform(netflix_data_cleaned['combined_features'].fillna(''))\n",
    "\n",
    "# Computing the Cosine Similarity matrix\n",
    "cosine_sim = cosine_similarity(tfidf_matrix, tfidf_matrix)\n",
    "\n",
    "# Function to get title from index and vice versa\n",
    "indices = pd.Series(netflix_data_cleaned.index, index=netflix_data_cleaned['title']).drop_duplicates()\n",
    "\n",
    "# Displaying the shape of the TF-IDF matrix and a snippet of the cosine similarity matrix\n",
    "tfidf_matrix.shape, cosine_sim[:5, :5]\n"
   ]
  },
  {
   "cell_type": "markdown",
   "metadata": {},
   "source": [
    "#### Creating the recommendation function"
   ]
  },
  {
   "cell_type": "code",
   "execution_count": null,
   "metadata": {},
   "outputs": [],
   "source": [
    "# Recommendation function: Returns titles most similar to the given title\n",
    "\n",
    "def recommend_titles(title, cosine_sim=cosine_sim, df=netflix_data_cleaned, indices=indices):\n",
    "    # Get the index of the movie that matches the title\n",
    "    idx = indices[title]\n",
    "\n",
    "    # Get the pairwise similarity scores of all titles with that title\n",
    "    sim_scores = list(enumerate(cosine_sim[idx]))\n",
    "\n",
    "    # Sort the titles based on the similarity scores\n",
    "    sim_scores = sorted(sim_scores, key=lambda x: x[1], reverse=True)\n",
    "\n",
    "    # Get the scores of the 10 most similar titles\n",
    "    sim_scores = sim_scores[1:11]\n",
    "\n",
    "    # Get the title indices\n",
    "    movie_indices = [i[0] for i in sim_scores]\n",
    "\n",
    "    # Return the top 10 most similar titles\n",
    "    return df['title'].iloc[movie_indices]\n",
    "\n",
    "# Testing the recommendation function with \"Breaking Bad\"\n",
    "recommended_titles = recommend_titles(\"Breaking Bad\")\n",
    "recommended_titles\n"
   ]
  },
  {
   "cell_type": "markdown",
   "metadata": {},
   "source": [
    "#### Function encountered errors with values not found in the dataset or duplicate values\n",
    "\n",
    "##### Confirming Breaking Bad is within the dataset"
   ]
  },
  {
   "cell_type": "code",
   "execution_count": null,
   "metadata": {},
   "outputs": [],
   "source": [
    "# Checking if \"Breaking Bad\" is in the dataset and its index\n",
    "if \"Breaking Bad\" in indices:\n",
    "    breaking_bad_index = indices[\"Breaking Bad\"]\n",
    "else:\n",
    "    breaking_bad_index = None\n",
    "\n",
    "breaking_bad_index\n"
   ]
  },
  {
   "cell_type": "markdown",
   "metadata": {},
   "source": [
    "#### Function kept failing"
   ]
  },
  {
   "cell_type": "code",
   "execution_count": null,
   "metadata": {},
   "outputs": [],
   "source": [
    "# Re-running the recommendation function for \"Breaking Bad\" using the first index\n",
    "recommended_titles_for_breaking_bad = recommend_titles(\"Breaking Bad\")\n",
    "recommended_titles_for_breaking_bad\n"
   ]
  },
  {
   "cell_type": "markdown",
   "metadata": {},
   "source": [
    "#### Modified the function to take into account duplicate values."
   ]
  },
  {
   "cell_type": "code",
   "execution_count": null,
   "metadata": {},
   "outputs": [],
   "source": [
    "def recommend_titles_modified(title, cosine_sim=cosine_sim, df=netflix_data_cleaned, indices=indices):\n",
    "    idx = indices[title].iloc[0]\n",
    "    sim_scores = list(enumerate(cosine_sim[idx]))\n",
    "    sim_scores = sorted(sim_scores, key=lambda x: x[1], reverse=True)\n",
    "    movie_indices = [i[0] for i in sim_scores[1:11]]\n",
    "    return df['title'].iloc[movie_indices]\n"
   ]
  },
  {
   "cell_type": "markdown",
   "metadata": {},
   "source": [
    "#### Recommendation function results"
   ]
  },
  {
   "cell_type": "code",
   "execution_count": null,
   "metadata": {},
   "outputs": [],
   "source": [
    "# Testing the modified recommendation function with \"Breaking Bad\"\n",
    "recommended_titles_for_breaking_bad = recommend_titles_modified(\"Breaking Bad\")\n",
    "recommended_titles_for_breaking_bad"
   ]
  },
  {
   "cell_type": "code",
   "execution_count": null,
   "metadata": {},
   "outputs": [],
   "source": [
    "# Testing the recommendation function with \"Brooklyn Nine-Nine\"\n",
    "recommended_titles_for_brooklyn_nine_nine = recommend_titles_modified(\"Brooklyn Nine-Nine\")\n",
    "recommended_titles_for_brooklyn_nine_nine\n"
   ]
  }
 ],
 "metadata": {
  "language_info": {
   "name": "python"
  }
 },
 "nbformat": 4,
 "nbformat_minor": 2
}
